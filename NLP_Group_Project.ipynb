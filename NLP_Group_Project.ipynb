{
  "nbformat": 4,
  "nbformat_minor": 0,
  "metadata": {
    "colab": {
      "provenance": [],
      "authorship_tag": "ABX9TyNzWzAiUFu4RuKTpVX1JQ1E",
      "include_colab_link": true
    },
    "kernelspec": {
      "name": "python3",
      "display_name": "Python 3"
    },
    "language_info": {
      "name": "python"
    }
  },
  "cells": [
    {
      "cell_type": "markdown",
      "metadata": {
        "id": "view-in-github",
        "colab_type": "text"
      },
      "source": [
        "<a href=\"https://colab.research.google.com/github/yashasvi2601/NLP/blob/main/NLP_Group_Project.ipynb\" target=\"_parent\"><img src=\"https://colab.research.google.com/assets/colab-badge.svg\" alt=\"Open In Colab\"/></a>"
      ]
    },
    {
      "cell_type": "code",
      "execution_count": null,
      "metadata": {
        "colab": {
          "base_uri": "https://localhost:8080/"
        },
        "id": "xUqBTJW7V2vH",
        "outputId": "95a3e82f-b1aa-4f1c-d8a0-72cee8a82a89"
      },
      "outputs": [
        {
          "output_type": "stream",
          "name": "stdout",
          "text": [
            "Collecting taxii2-client\n",
            "  Downloading taxii2_client-2.3.0-py2.py3-none-any.whl.metadata (11 kB)\n",
            "Collecting stix2\n",
            "  Downloading stix2-3.0.1-py2.py3-none-any.whl.metadata (10 kB)\n",
            "Requirement already satisfied: spacy in /usr/local/lib/python3.11/dist-packages (3.8.4)\n",
            "Requirement already satisfied: pandas in /usr/local/lib/python3.11/dist-packages (2.2.2)\n",
            "Requirement already satisfied: requests in /usr/local/lib/python3.11/dist-packages (from taxii2-client) (2.32.3)\n",
            "Requirement already satisfied: six in /usr/local/lib/python3.11/dist-packages (from taxii2-client) (1.17.0)\n",
            "Requirement already satisfied: pytz in /usr/local/lib/python3.11/dist-packages (from taxii2-client) (2025.2)\n",
            "Requirement already satisfied: simplejson in /usr/local/lib/python3.11/dist-packages (from stix2) (3.20.1)\n",
            "Collecting stix2-patterns>=1.2.0 (from stix2)\n",
            "  Downloading stix2_patterns-2.0.0-py2.py3-none-any.whl.metadata (8.3 kB)\n",
            "Requirement already satisfied: spacy-legacy<3.1.0,>=3.0.11 in /usr/local/lib/python3.11/dist-packages (from spacy) (3.0.12)\n",
            "Requirement already satisfied: spacy-loggers<2.0.0,>=1.0.0 in /usr/local/lib/python3.11/dist-packages (from spacy) (1.0.5)\n",
            "Requirement already satisfied: murmurhash<1.1.0,>=0.28.0 in /usr/local/lib/python3.11/dist-packages (from spacy) (1.0.12)\n",
            "Requirement already satisfied: cymem<2.1.0,>=2.0.2 in /usr/local/lib/python3.11/dist-packages (from spacy) (2.0.11)\n",
            "Requirement already satisfied: preshed<3.1.0,>=3.0.2 in /usr/local/lib/python3.11/dist-packages (from spacy) (3.0.9)\n",
            "Requirement already satisfied: thinc<8.4.0,>=8.3.4 in /usr/local/lib/python3.11/dist-packages (from spacy) (8.3.4)\n",
            "Requirement already satisfied: wasabi<1.2.0,>=0.9.1 in /usr/local/lib/python3.11/dist-packages (from spacy) (1.1.3)\n",
            "Requirement already satisfied: srsly<3.0.0,>=2.4.3 in /usr/local/lib/python3.11/dist-packages (from spacy) (2.5.1)\n",
            "Requirement already satisfied: catalogue<2.1.0,>=2.0.6 in /usr/local/lib/python3.11/dist-packages (from spacy) (2.0.10)\n",
            "Requirement already satisfied: weasel<0.5.0,>=0.1.0 in /usr/local/lib/python3.11/dist-packages (from spacy) (0.4.1)\n",
            "Requirement already satisfied: typer<1.0.0,>=0.3.0 in /usr/local/lib/python3.11/dist-packages (from spacy) (0.15.2)\n",
            "Requirement already satisfied: tqdm<5.0.0,>=4.38.0 in /usr/local/lib/python3.11/dist-packages (from spacy) (4.67.1)\n",
            "Requirement already satisfied: numpy>=1.19.0 in /usr/local/lib/python3.11/dist-packages (from spacy) (2.0.2)\n",
            "Requirement already satisfied: pydantic!=1.8,!=1.8.1,<3.0.0,>=1.7.4 in /usr/local/lib/python3.11/dist-packages (from spacy) (2.11.0)\n",
            "Requirement already satisfied: jinja2 in /usr/local/lib/python3.11/dist-packages (from spacy) (3.1.6)\n",
            "Requirement already satisfied: setuptools in /usr/local/lib/python3.11/dist-packages (from spacy) (75.2.0)\n",
            "Requirement already satisfied: packaging>=20.0 in /usr/local/lib/python3.11/dist-packages (from spacy) (24.2)\n",
            "Requirement already satisfied: langcodes<4.0.0,>=3.2.0 in /usr/local/lib/python3.11/dist-packages (from spacy) (3.5.0)\n",
            "Requirement already satisfied: python-dateutil>=2.8.2 in /usr/local/lib/python3.11/dist-packages (from pandas) (2.8.2)\n",
            "Requirement already satisfied: tzdata>=2022.7 in /usr/local/lib/python3.11/dist-packages (from pandas) (2025.2)\n",
            "Requirement already satisfied: language-data>=1.2 in /usr/local/lib/python3.11/dist-packages (from langcodes<4.0.0,>=3.2.0->spacy) (1.3.0)\n",
            "Requirement already satisfied: annotated-types>=0.6.0 in /usr/local/lib/python3.11/dist-packages (from pydantic!=1.8,!=1.8.1,<3.0.0,>=1.7.4->spacy) (0.7.0)\n",
            "Requirement already satisfied: pydantic-core==2.33.0 in /usr/local/lib/python3.11/dist-packages (from pydantic!=1.8,!=1.8.1,<3.0.0,>=1.7.4->spacy) (2.33.0)\n",
            "Requirement already satisfied: typing-extensions>=4.12.2 in /usr/local/lib/python3.11/dist-packages (from pydantic!=1.8,!=1.8.1,<3.0.0,>=1.7.4->spacy) (4.13.0)\n",
            "Requirement already satisfied: typing-inspection>=0.4.0 in /usr/local/lib/python3.11/dist-packages (from pydantic!=1.8,!=1.8.1,<3.0.0,>=1.7.4->spacy) (0.4.0)\n",
            "Requirement already satisfied: charset-normalizer<4,>=2 in /usr/local/lib/python3.11/dist-packages (from requests->taxii2-client) (3.4.1)\n",
            "Requirement already satisfied: idna<4,>=2.5 in /usr/local/lib/python3.11/dist-packages (from requests->taxii2-client) (3.10)\n",
            "Requirement already satisfied: urllib3<3,>=1.21.1 in /usr/local/lib/python3.11/dist-packages (from requests->taxii2-client) (2.3.0)\n",
            "Requirement already satisfied: certifi>=2017.4.17 in /usr/local/lib/python3.11/dist-packages (from requests->taxii2-client) (2025.1.31)\n",
            "Collecting antlr4-python3-runtime~=4.9.0 (from stix2-patterns>=1.2.0->stix2)\n",
            "  Downloading antlr4-python3-runtime-4.9.3.tar.gz (117 kB)\n",
            "\u001b[2K     \u001b[90m━━━━━━━━━━━━━━━━━━━━━━━━━━━━━━━━━━━━━━━━\u001b[0m \u001b[32m117.0/117.0 kB\u001b[0m \u001b[31m7.1 MB/s\u001b[0m eta \u001b[36m0:00:00\u001b[0m\n",
            "\u001b[?25h  Preparing metadata (setup.py) ... \u001b[?25l\u001b[?25hdone\n",
            "Requirement already satisfied: blis<1.3.0,>=1.2.0 in /usr/local/lib/python3.11/dist-packages (from thinc<8.4.0,>=8.3.4->spacy) (1.2.0)\n",
            "Requirement already satisfied: confection<1.0.0,>=0.0.1 in /usr/local/lib/python3.11/dist-packages (from thinc<8.4.0,>=8.3.4->spacy) (0.1.5)\n",
            "Requirement already satisfied: click>=8.0.0 in /usr/local/lib/python3.11/dist-packages (from typer<1.0.0,>=0.3.0->spacy) (8.1.8)\n",
            "Requirement already satisfied: shellingham>=1.3.0 in /usr/local/lib/python3.11/dist-packages (from typer<1.0.0,>=0.3.0->spacy) (1.5.4)\n",
            "Requirement already satisfied: rich>=10.11.0 in /usr/local/lib/python3.11/dist-packages (from typer<1.0.0,>=0.3.0->spacy) (13.9.4)\n",
            "Requirement already satisfied: cloudpathlib<1.0.0,>=0.7.0 in /usr/local/lib/python3.11/dist-packages (from weasel<0.5.0,>=0.1.0->spacy) (0.21.0)\n",
            "Requirement already satisfied: smart-open<8.0.0,>=5.2.1 in /usr/local/lib/python3.11/dist-packages (from weasel<0.5.0,>=0.1.0->spacy) (7.1.0)\n",
            "Requirement already satisfied: MarkupSafe>=2.0 in /usr/local/lib/python3.11/dist-packages (from jinja2->spacy) (3.0.2)\n",
            "Requirement already satisfied: marisa-trie>=1.1.0 in /usr/local/lib/python3.11/dist-packages (from language-data>=1.2->langcodes<4.0.0,>=3.2.0->spacy) (1.2.1)\n",
            "Requirement already satisfied: markdown-it-py>=2.2.0 in /usr/local/lib/python3.11/dist-packages (from rich>=10.11.0->typer<1.0.0,>=0.3.0->spacy) (3.0.0)\n",
            "Requirement already satisfied: pygments<3.0.0,>=2.13.0 in /usr/local/lib/python3.11/dist-packages (from rich>=10.11.0->typer<1.0.0,>=0.3.0->spacy) (2.18.0)\n",
            "Requirement already satisfied: wrapt in /usr/local/lib/python3.11/dist-packages (from smart-open<8.0.0,>=5.2.1->weasel<0.5.0,>=0.1.0->spacy) (1.17.2)\n",
            "Requirement already satisfied: mdurl~=0.1 in /usr/local/lib/python3.11/dist-packages (from markdown-it-py>=2.2.0->rich>=10.11.0->typer<1.0.0,>=0.3.0->spacy) (0.1.2)\n",
            "Downloading taxii2_client-2.3.0-py2.py3-none-any.whl (24 kB)\n",
            "Downloading stix2-3.0.1-py2.py3-none-any.whl (177 kB)\n",
            "\u001b[2K   \u001b[90m━━━━━━━━━━━━━━━━━━━━━━━━━━━━━━━━━━━━━━━━\u001b[0m \u001b[32m177.8/177.8 kB\u001b[0m \u001b[31m6.9 MB/s\u001b[0m eta \u001b[36m0:00:00\u001b[0m\n",
            "\u001b[?25hDownloading stix2_patterns-2.0.0-py2.py3-none-any.whl (65 kB)\n",
            "\u001b[2K   \u001b[90m━━━━━━━━━━━━━━━━━━━━━━━━━━━━━━━━━━━━━━━━\u001b[0m \u001b[32m65.9/65.9 kB\u001b[0m \u001b[31m2.9 MB/s\u001b[0m eta \u001b[36m0:00:00\u001b[0m\n",
            "\u001b[?25hBuilding wheels for collected packages: antlr4-python3-runtime\n",
            "  Building wheel for antlr4-python3-runtime (setup.py) ... \u001b[?25l\u001b[?25hdone\n",
            "  Created wheel for antlr4-python3-runtime: filename=antlr4_python3_runtime-4.9.3-py3-none-any.whl size=144554 sha256=390e1660becb238fc81d57b72d240cd0ce46cae183faa0b39f7efd72ebe6abd9\n",
            "  Stored in directory: /root/.cache/pip/wheels/1a/97/32/461f837398029ad76911109f07047fde1d7b661a147c7c56d1\n",
            "Successfully built antlr4-python3-runtime\n",
            "Installing collected packages: antlr4-python3-runtime, stix2-patterns, taxii2-client, stix2\n",
            "Successfully installed antlr4-python3-runtime-4.9.3 stix2-3.0.1 stix2-patterns-2.0.0 taxii2-client-2.3.0\n",
            "Collecting en-core-web-sm==3.8.0\n",
            "  Downloading https://github.com/explosion/spacy-models/releases/download/en_core_web_sm-3.8.0/en_core_web_sm-3.8.0-py3-none-any.whl (12.8 MB)\n",
            "\u001b[2K     \u001b[90m━━━━━━━━━━━━━━━━━━━━━━━━━━━━━━━━━━━━━━━━\u001b[0m \u001b[32m12.8/12.8 MB\u001b[0m \u001b[31m62.7 MB/s\u001b[0m eta \u001b[36m0:00:00\u001b[0m\n",
            "\u001b[?25h\u001b[38;5;2m✔ Download and installation successful\u001b[0m\n",
            "You can now load the package via spacy.load('en_core_web_sm')\n",
            "\u001b[38;5;3m⚠ Restart to reload dependencies\u001b[0m\n",
            "If you are in a Jupyter or Colab notebook, you may need to restart Python in\n",
            "order to load all the package's dependencies. You can do this by selecting the\n",
            "'Restart kernel' or 'Restart runtime' option.\n"
          ]
        }
      ],
      "source": [
        "!pip install taxii2-client stix2 spacy pandas\n",
        "!python -m spacy download en_core_web_sm"
      ]
    },
    {
      "cell_type": "code",
      "source": [
        "import requests\n",
        "\n",
        "url = \"https://cti-taxii.mitre.org/taxii/\"\n",
        "try:\n",
        "    response = requests.get(url, timeout=10)\n",
        "    print(f\"Server Response: {response.status_code}\")\n",
        "except requests.exceptions.RequestException as e:\n",
        "    print(f\"Error connecting to MITRE ATT&CK TAXII Server: {e}\")\n"
      ],
      "metadata": {
        "colab": {
          "base_uri": "https://localhost:8080/"
        },
        "id": "rNiJhZKSXftX",
        "outputId": "4c0ae549-ace4-4fa4-a63a-f8df82cec1ca"
      },
      "execution_count": 4,
      "outputs": [
        {
          "output_type": "stream",
          "name": "stdout",
          "text": [
            "Error connecting to MITRE ATT&CK TAXII Server: HTTPSConnectionPool(host='cti-taxii.mitre.org', port=443): Max retries exceeded with url: /taxii/ (Caused by ConnectTimeoutError(<urllib3.connection.HTTPSConnection object at 0x7a694a5a8510>, 'Connection to cti-taxii.mitre.org timed out. (connect timeout=10)'))\n"
          ]
        }
      ]
    },
    {
      "cell_type": "code",
      "source": [
        "import json\n",
        "import spacy\n",
        "import pandas as pd\n",
        "\n",
        "# Load spaCy NLP model\n",
        "nlp = spacy.load(\"en_core_web_sm\")\n",
        "\n",
        "# Load MITRE ATT&CK JSON file (Uploaded in Colab)\n",
        "file_path = \"/content/enterprise-attack.json\"  # Update path if needed\n",
        "with open(file_path, \"r\", encoding=\"utf-8\") as f:\n",
        "    attack_data = json.load(f)\n",
        "\n",
        "# Extract TTPs\n",
        "def extract_ttps(data):\n",
        "    techniques = []\n",
        "    for obj in data[\"objects\"]:\n",
        "        if obj.get(\"type\") == \"attack-pattern\":  # Filter for techniques\n",
        "            techniques.append({\n",
        "                \"ID\": obj.get(\"external_references\", [{}])[0].get(\"external_id\", \"N/A\"),\n",
        "                \"Name\": obj.get(\"name\", \"N/A\"),\n",
        "                \"Description\": obj.get(\"description\", \"No description available\"),\n",
        "                \"Tactic\": \", \".join([phase.get(\"phase_name\", \"N/A\") for phase in obj.get(\"kill_chain_phases\", [])])\n",
        "            })\n",
        "    return pd.DataFrame(techniques)\n",
        "\n",
        "# Preprocess descriptions\n",
        "def preprocess_text(df):\n",
        "    def clean_text(text):\n",
        "        doc = nlp(text)\n",
        "        return \" \".join([token.lemma_ for token in doc if not token.is_stop and token.is_alpha])\n",
        "\n",
        "    df[\"Processed_Description\"] = df[\"Description\"].apply(clean_text)\n",
        "    return df\n",
        "\n",
        "# Run processing\n",
        "ttp_df = extract_ttps(attack_data)\n",
        "ttp_df = preprocess_text(ttp_df)\n",
        "ttp_df.to_csv(\"mitre_ttps.csv\", index=False)\n",
        "\n",
        "print(\"Processing complete. Data saved to 'mitre_ttps.csv'.\")\n"
      ],
      "metadata": {
        "colab": {
          "base_uri": "https://localhost:8080/"
        },
        "id": "NwXM9XPeWM7Y",
        "outputId": "eddbefa0-56d3-43a5-d654-c245464546b4"
      },
      "execution_count": 5,
      "outputs": [
        {
          "output_type": "stream",
          "name": "stdout",
          "text": [
            "Processing complete. Data saved to 'mitre_ttps.csv'.\n"
          ]
        }
      ]
    },
    {
      "cell_type": "code",
      "source": [
        "import spacy\n",
        "import pandas as pd\n",
        "\n",
        "# Load spaCy NLP model\n",
        "nlp = spacy.load(\"en_core_web_sm\")\n",
        "\n",
        "# Load extracted MITRE TTPs\n",
        "ttp_df = pd.read_csv(\"mitre_ttps.csv\")\n",
        "\n",
        "# Function to extract key entities and relationships\n",
        "def extract_relationships(text):\n",
        "    doc = nlp(text)\n",
        "\n",
        "    entities = [token.text for token in doc if token.pos_ in [\"NOUN\", \"PROPN\"]]\n",
        "    actions = [token.lemma_ for token in doc if token.pos_ == \"VERB\"]\n",
        "\n",
        "    return {\n",
        "        \"Entities\": \", \".join(entities),\n",
        "        \"Actions\": \", \".join(actions)\n",
        "    }\n",
        "\n",
        "# Apply the function to each description\n",
        "ttp_df[[\"Entities\", \"Actions\"]] = ttp_df[\"Description\"].apply(lambda x: pd.Series(extract_relationships(x)))\n",
        "\n",
        "# Save processed data\n",
        "ttp_df.to_csv(\"mitre_ttps_with_relations.csv\", index=False)\n",
        "print(\"✅ Dependency parsing complete! Data saved to 'mitre_ttps_with_relations.csv'.\")\n"
      ],
      "metadata": {
        "colab": {
          "base_uri": "https://localhost:8080/"
        },
        "id": "W2s9y7pzY4jI",
        "outputId": "3ad9c62a-192b-41d0-c4b2-731440165882"
      },
      "execution_count": 6,
      "outputs": [
        {
          "output_type": "stream",
          "name": "stdout",
          "text": [
            "✅ Dependency parsing complete! Data saved to 'mitre_ttps_with_relations.csv'.\n"
          ]
        }
      ]
    },
    {
      "cell_type": "code",
      "source": [
        "import json\n",
        "import pandas as pd\n",
        "\n",
        "# Load processed MITRE TTP data\n",
        "ttp_df = pd.read_csv(\"mitre_ttps_with_relations.csv\")\n",
        "\n",
        "# Prepare nodes and links for D3.js graph\n",
        "nodes = [{\"id\": row[\"Name\"], \"group\": row[\"Tactic\"]} for _, row in ttp_df.iterrows()]\n",
        "links = [{\"source\": row[\"Name\"], \"target\": entity, \"value\": 1} for _, row in ttp_df.iterrows() for entity in row[\"Entities\"].split(\", \") if entity]\n",
        "\n",
        "# Save JSON output\n",
        "graph_data = {\"nodes\": nodes, \"links\": links}\n",
        "with open(\"ttp_graph.json\", \"w\") as f:\n",
        "    json.dump(graph_data, f, indent=4)\n",
        "\n",
        "print(\"✅ JSON file 'ttp_graph.json' created for D3.js visualization.\")\n"
      ],
      "metadata": {
        "colab": {
          "base_uri": "https://localhost:8080/"
        },
        "id": "HXjtdbg-ZRMw",
        "outputId": "5bbe69f4-5ba4-4341-8fb9-19585c79f9fd"
      },
      "execution_count": 7,
      "outputs": [
        {
          "output_type": "stream",
          "name": "stdout",
          "text": [
            "✅ JSON file 'ttp_graph.json' created for D3.js visualization.\n"
          ]
        }
      ]
    },
    {
      "cell_type": "code",
      "source": [
        "html_code = \"\"\"\n",
        "<!DOCTYPE html>\n",
        "<html lang=\"en\">\n",
        "<head>\n",
        "    <meta charset=\"UTF-8\">\n",
        "    <meta name=\"viewport\" content=\"width=device-width, initial-scale=1.0\">\n",
        "    <title>TTP Network Graph</title>\n",
        "    <script src=\"https://d3js.org/d3.v7.min.js\"></script>\n",
        "    <style>\n",
        "        body { font-family: Arial, sans-serif; }\n",
        "        .node { stroke: #fff; stroke-width: 1.5px; }\n",
        "        .link { stroke: #999; stroke-opacity: 0.6; }\n",
        "    </style>\n",
        "</head>\n",
        "<body>\n",
        "    <h2>TTP Relationship Network</h2>\n",
        "    <svg width=\"900\" height=\"600\"></svg>\n",
        "\n",
        "    <script>\n",
        "        // Load JSON data\n",
        "        d3.json(\"ttp_graph.json\").then(function(graph) {\n",
        "            const width = 900, height = 600;\n",
        "\n",
        "            const svg = d3.select(\"svg\")\n",
        "                          .attr(\"width\", width)\n",
        "                          .attr(\"height\", height);\n",
        "\n",
        "            const simulation = d3.forceSimulation(graph.nodes)\n",
        "                .force(\"link\", d3.forceLink(graph.links).id(d => d.id).distance(150))\n",
        "                .force(\"charge\", d3.forceManyBody().strength(-300))\n",
        "                .force(\"center\", d3.forceCenter(width / 2, height / 2));\n",
        "\n",
        "            const link = svg.selectAll(\".link\")\n",
        "                .data(graph.links)\n",
        "                .enter().append(\"line\")\n",
        "                .attr(\"class\", \"link\")\n",
        "                .style(\"stroke-width\", d => Math.sqrt(d.value));\n",
        "\n",
        "            const node = svg.selectAll(\".node\")\n",
        "                .data(graph.nodes)\n",
        "                .enter().append(\"circle\")\n",
        "                .attr(\"class\", \"node\")\n",
        "                .attr(\"r\", 10)\n",
        "                .style(\"fill\", d => d3.schemeCategory10[d.group.length % 10])\n",
        "                .call(drag(simulation));\n",
        "\n",
        "            node.append(\"title\")\n",
        "                .text(d => d.id);\n",
        "\n",
        "            simulation.on(\"tick\", () => {\n",
        "                link.attr(\"x1\", d => d.source.x)\n",
        "                    .attr(\"y1\", d => d.source.y)\n",
        "                    .attr(\"x2\", d => d.target.x)\n",
        "                    .attr(\"y2\", d => d.target.y);\n",
        "\n",
        "                node.attr(\"cx\", d => d.x)\n",
        "                    .attr(\"cy\", d => d.y);\n",
        "            });\n",
        "\n",
        "            function drag(simulation) {\n",
        "                return d3.drag()\n",
        "                    .on(\"start\", (event, d) => {\n",
        "                        if (!event.active) simulation.alphaTarget(0.3).restart();\n",
        "                        d.fx = d.x;\n",
        "                        d.fy = d.y;\n",
        "                    })\n",
        "                    .on(\"drag\", (event, d) => {\n",
        "                        d.fx = event.x;\n",
        "                        d.fy = event.y;\n",
        "                    })\n",
        "                    .on(\"end\", (event, d) => {\n",
        "                        if (!event.active) simulation.alphaTarget(0);\n",
        "                        d.fx = null;\n",
        "                        d.fy = null;\n",
        "                    });\n",
        "            }\n",
        "        });\n",
        "    </script>\n",
        "</body>\n",
        "</html>\n",
        "\"\"\"\n",
        "\n",
        "# Save to index.html\n",
        "with open(\"index.html\", \"w\") as file:\n",
        "    file.write(html_code)\n",
        "\n",
        "print(\"✅ 'index.html' saved successfully!\")\n"
      ],
      "metadata": {
        "colab": {
          "base_uri": "https://localhost:8080/"
        },
        "id": "3cuQ5dF9ZSKu",
        "outputId": "d4937b30-9638-4b3d-ddbd-5b628028e74f"
      },
      "execution_count": 8,
      "outputs": [
        {
          "output_type": "stream",
          "name": "stdout",
          "text": [
            "✅ 'index.html' saved successfully!\n"
          ]
        }
      ]
    },
    {
      "cell_type": "code",
      "source": [
        "from IPython.display import IFrame\n",
        "\n",
        "IFrame(src=\"./index.html\", width=\"100%\", height=\"600px\")\n"
      ],
      "metadata": {
        "colab": {
          "base_uri": "https://localhost:8080/",
          "height": 621
        },
        "id": "9dFaLLeOjBAF",
        "outputId": "f8ed2dbc-648e-4942-cfa4-73df758e28d6"
      },
      "execution_count": 9,
      "outputs": [
        {
          "output_type": "execute_result",
          "data": {
            "text/plain": [
              "<IPython.lib.display.IFrame at 0x7a6858690e90>"
            ],
            "text/html": [
              "\n",
              "        <iframe\n",
              "            width=\"100%\"\n",
              "            height=\"600px\"\n",
              "            src=\"./index.html\"\n",
              "            frameborder=\"0\"\n",
              "            allowfullscreen\n",
              "            \n",
              "        ></iframe>\n",
              "        "
            ]
          },
          "metadata": {},
          "execution_count": 9
        }
      ]
    },
    {
      "cell_type": "code",
      "source": [
        "import matplotlib.pyplot as plt\n",
        "import seaborn as sns\n",
        "\n",
        "# Example Data\n",
        "ttp_counts = {\"TTP-1\": 10, \"TTP-2\": 15, \"TTP-3\": 7, \"TTP-4\": 20}\n",
        "ttp_names = list(ttp_counts.keys())\n",
        "counts = list(ttp_counts.values())\n",
        "\n",
        "# Bar Plot\n",
        "plt.figure(figsize=(10, 5))\n",
        "sns.barplot(x=ttp_names, y=counts, palette=\"viridis\")\n",
        "plt.xlabel(\"TTPs\")\n",
        "plt.ylabel(\"Frequency\")\n",
        "plt.title(\"TTP Trends Over Time\")\n",
        "plt.show()\n"
      ],
      "metadata": {
        "colab": {
          "base_uri": "https://localhost:8080/",
          "height": 594
        },
        "id": "VU9IVzp2jEaz",
        "outputId": "0d719230-7a76-4799-edd6-f960bcf3d72a"
      },
      "execution_count": 10,
      "outputs": [
        {
          "output_type": "stream",
          "name": "stderr",
          "text": [
            "<ipython-input-10-c7d9b02137a6>:11: FutureWarning: \n",
            "\n",
            "Passing `palette` without assigning `hue` is deprecated and will be removed in v0.14.0. Assign the `x` variable to `hue` and set `legend=False` for the same effect.\n",
            "\n",
            "  sns.barplot(x=ttp_names, y=counts, palette=\"viridis\")\n"
          ]
        },
        {
          "output_type": "display_data",
          "data": {
            "text/plain": [
              "<Figure size 1000x500 with 1 Axes>"
            ],
            "image/png": "[encoded data removed]"
          },
          "metadata": {}
        }
      ]
    },
    {
      "cell_type": "code",
      "source": [
        "from sklearn.feature_extraction.text import TfidfVectorizer\n",
        "from sklearn.cluster import KMeans\n",
        "import numpy as np\n",
        "\n",
        "# Convert descriptions to feature vectors\n",
        "vectorizer = TfidfVectorizer(stop_words='english')\n",
        "X = vectorizer.fit_transform(ttp_df[\"Processed_Description\"])\n",
        "\n",
        "# Perform clustering\n",
        "num_clusters = 5  # Adjust based on dataset\n",
        "kmeans = KMeans(n_clusters=num_clusters, random_state=42, n_init=10)\n",
        "ttp_df[\"Cluster\"] = kmeans.fit_predict(X)\n",
        "\n",
        "# Show cluster assignments\n",
        "print(ttp_df[[\"ID\", \"Name\", \"Cluster\"]].head())\n"
      ],
      "metadata": {
        "colab": {
          "base_uri": "https://localhost:8080/"
        },
        "id": "U9jygZDzkBDn",
        "outputId": "db938afc-dd64-49d8-a255-34fd69b206bb"
      },
      "execution_count": 11,
      "outputs": [
        {
          "output_type": "stream",
          "name": "stdout",
          "text": [
            "          ID                           Name  Cluster\n",
            "0  T1055.011  Extra Window Memory Injection        0\n",
            "1  T1053.005                 Scheduled Task        2\n",
            "2  T1205.002                 Socket Filters        1\n",
            "3      T1066   Indicator Removal from Tools        2\n",
            "4  T1560.001            Archive via Utility        2\n"
          ]
        }
      ]
    },
    {
      "cell_type": "code",
      "source": [
        "def match_real_world_ttps(real_world_logs, ttp_descriptions):\n",
        "    matched_ttps = []\n",
        "    for log in real_world_logs:\n",
        "        for _, row in ttp_descriptions.iterrows():\n",
        "            if row[\"Name\"].lower() in log.lower():\n",
        "                matched_ttps.append((log, row[\"ID\"], row[\"Name\"]))\n",
        "    return matched_ttps\n",
        "\n",
        "# Example real-world logs (replace with actual data)\n",
        "real_world_logs = [\"Phishing attack detected\", \"Privilege escalation attempt\", \"Malware executed via PowerShell\"]\n",
        "\n",
        "matches = match_real_world_ttps(real_world_logs, ttp_df)\n",
        "for match in matches:\n",
        "    print(f\"Log: {match[0]} -> Matched TTP: {match[1]} ({match[2]})\")\n"
      ],
      "metadata": {
        "colab": {
          "base_uri": "https://localhost:8080/"
        },
        "id": "4r-HHCI-kGO7",
        "outputId": "c61f6a62-f282-4d69-ff5e-d3a66d1c7d23"
      },
      "execution_count": 12,
      "outputs": [
        {
          "output_type": "stream",
          "name": "stdout",
          "text": [
            "Log: Phishing attack detected -> Matched TTP: T1566 (Phishing)\n",
            "Log: Phishing attack detected -> Matched TTP: T1053.002 (At)\n",
            "Log: Privilege escalation attempt -> Matched TTP: T1053.002 (At)\n",
            "Log: Malware executed via PowerShell -> Matched TTP: T1587.001 (Malware)\n",
            "Log: Malware executed via PowerShell -> Matched TTP: T1588.001 (Malware)\n",
            "Log: Malware executed via PowerShell -> Matched TTP: T1059.001 (PowerShell)\n",
            "Log: Malware executed via PowerShell -> Matched TTP: T1086 (PowerShell)\n"
          ]
        }
      ]
    },
    {
      "cell_type": "code",
      "source": [
        "!pip install dash pandas\n",
        "\n",
        "import dash\n",
        "from dash import dcc, html\n",
        "import pandas as pd\n",
        "import plotly.express as px\n",
        "\n",
        "app = dash.Dash(__name__)\n",
        "\n",
        "# Sample Data\n",
        "data = {\n",
        "    \"TTP\": [\"T1071\", \"T1059\", \"T1105\", \"T1203\"],\n",
        "    \"Description\": [\"Application Layer Protocol\", \"Command and Scripting Interpreter\", \"Ingress Tool Transfer\", \"Exploitation for Client Execution\"],\n",
        "    \"Frequency\": [50, 70, 40, 30]\n",
        "}\n",
        "df = pd.DataFrame(data)\n",
        "\n",
        "# Layout\n",
        "app.layout = html.Div(children=[\n",
        "    html.H1(children=\"MITRE ATT&CK TTPs Dashboard\"),\n",
        "    dcc.Graph(figure=px.bar(df, x=\"TTP\", y=\"Frequency\", title=\"TTP Frequency\"))\n",
        "])\n",
        "\n",
        "if __name__ == '__main__':\n",
        "    app.run(debug=True, port=8050)\n"
      ],
      "metadata": {
        "colab": {
          "base_uri": "https://localhost:8080/",
          "height": 1000
        },
        "id": "IXo8Rqmqk6bM",
        "outputId": "7d15b6d9-c84d-47b2-a731-5494902d5bf2"
      },
      "execution_count": 21,
      "outputs": [
        {
          "output_type": "stream",
          "name": "stdout",
          "text": [
            "Requirement already satisfied: dash in /usr/local/lib/python3.11/dist-packages (3.0.2)\n",
            "Requirement already satisfied: pandas in /usr/local/lib/python3.11/dist-packages (2.2.2)\n",
            "Requirement already satisfied: Flask<3.1,>=1.0.4 in /usr/local/lib/python3.11/dist-packages (from dash) (3.0.3)\n",
            "Requirement already satisfied: Werkzeug<3.1 in /usr/local/lib/python3.11/dist-packages (from dash) (3.0.6)\n",
            "Requirement already satisfied: plotly>=5.0.0 in /usr/local/lib/python3.11/dist-packages (from dash) (5.24.1)\n",
            "Requirement already satisfied: importlib-metadata in /usr/local/lib/python3.11/dist-packages (from dash) (8.6.1)\n",
            "Requirement already satisfied: typing-extensions>=4.1.1 in /usr/local/lib/python3.11/dist-packages (from dash) (4.13.0)\n",
            "Requirement already satisfied: requests in /usr/local/lib/python3.11/dist-packages (from dash) (2.32.3)\n",
            "Requirement already satisfied: retrying in /usr/local/lib/python3.11/dist-packages (from dash) (1.3.4)\n",
            "Requirement already satisfied: nest-asyncio in /usr/local/lib/python3.11/dist-packages (from dash) (1.6.0)\n",
            "Requirement already satisfied: setuptools in /usr/local/lib/python3.11/dist-packages (from dash) (75.2.0)\n",
            "Requirement already satisfied: numpy>=1.23.2 in /usr/local/lib/python3.11/dist-packages (from pandas) (2.0.2)\n",
            "Requirement already satisfied: python-dateutil>=2.8.2 in /usr/local/lib/python3.11/dist-packages (from pandas) (2.8.2)\n",
            "Requirement already satisfied: pytz>=2020.1 in /usr/local/lib/python3.11/dist-packages (from pandas) (2025.2)\n",
            "Requirement already satisfied: tzdata>=2022.7 in /usr/local/lib/python3.11/dist-packages (from pandas) (2025.2)\n",
            "Requirement already satisfied: Jinja2>=3.1.2 in /usr/local/lib/python3.11/dist-packages (from Flask<3.1,>=1.0.4->dash) (3.1.6)\n",
            "Requirement already satisfied: itsdangerous>=2.1.2 in /usr/local/lib/python3.11/dist-packages (from Flask<3.1,>=1.0.4->dash) (2.2.0)\n",
            "Requirement already satisfied: click>=8.1.3 in /usr/local/lib/python3.11/dist-packages (from Flask<3.1,>=1.0.4->dash) (8.1.8)\n",
            "Requirement already satisfied: blinker>=1.6.2 in /usr/local/lib/python3.11/dist-packages (from Flask<3.1,>=1.0.4->dash) (1.9.0)\n",
            "Requirement already satisfied: tenacity>=6.2.0 in /usr/local/lib/python3.11/dist-packages (from plotly>=5.0.0->dash) (9.0.0)\n",
            "Requirement already satisfied: packaging in /usr/local/lib/python3.11/dist-packages (from plotly>=5.0.0->dash) (24.2)\n",
            "Requirement already satisfied: six>=1.5 in /usr/local/lib/python3.11/dist-packages (from python-dateutil>=2.8.2->pandas) (1.17.0)\n",
            "Requirement already satisfied: MarkupSafe>=2.1.1 in /usr/local/lib/python3.11/dist-packages (from Werkzeug<3.1->dash) (3.0.2)\n",
            "Requirement already satisfied: zipp>=3.20 in /usr/local/lib/python3.11/dist-packages (from importlib-metadata->dash) (3.21.0)\n",
            "Requirement already satisfied: charset-normalizer<4,>=2 in /usr/local/lib/python3.11/dist-packages (from requests->dash) (3.4.1)\n",
            "Requirement already satisfied: idna<4,>=2.5 in /usr/local/lib/python3.11/dist-packages (from requests->dash) (3.10)\n",
            "Requirement already satisfied: urllib3<3,>=1.21.1 in /usr/local/lib/python3.11/dist-packages (from requests->dash) (2.3.0)\n",
            "Requirement already satisfied: certifi>=2017.4.17 in /usr/local/lib/python3.11/dist-packages (from requests->dash) (2025.1.31)\n"
          ]
        },
        {
          "output_type": "display_data",
          "data": {
            "text/plain": [
              "<IPython.core.display.Javascript object>"
            ],
            "application/javascript": [
              "(async (port, path, width, height, cache, element) => {\n",
              "    if (!google.colab.kernel.accessAllowed && !cache) {\n",
              "      return;\n",
              "    }\n",
              "    element.appendChild(document.createTextNode(''));\n",
              "    const url = await google.colab.kernel.proxyPort(port, {cache});\n",
              "    const iframe = document.createElement('iframe');\n",
              "    iframe.src = new URL(path, url).toString();\n",
              "    iframe.height = height;\n",
              "    iframe.width = width;\n",
              "    iframe.style.border = 0;\n",
              "    iframe.allow = [\n",
              "        'accelerometer',\n",
              "        'autoplay',\n",
              "        'camera',\n",
              "        'clipboard-read',\n",
              "        'clipboard-write',\n",
              "        'gyroscope',\n",
              "        'magnetometer',\n",
              "        'microphone',\n",
              "        'serial',\n",
              "        'usb',\n",
              "        'xr-spatial-tracking',\n",
              "    ].join('; ');\n",
              "    element.appendChild(iframe);\n",
              "  })(8050, \"/\", \"100%\", 650, false, window.element)"
            ]
          },
          "metadata": {}
        }
      ]
    }
  ]
}